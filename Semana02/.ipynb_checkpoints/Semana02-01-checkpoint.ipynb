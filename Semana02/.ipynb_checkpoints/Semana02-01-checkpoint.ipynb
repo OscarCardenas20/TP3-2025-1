{
 "cells": [
  {
   "cell_type": "markdown",
   "id": "551be71e-6684-4aff-94e2-14f2881030c7",
   "metadata": {},
   "source": [
    "# SEMANA 02 \n",
    "Oscar Adriano Cardenas Torres\n"
   ]
  },
  {
   "cell_type": "markdown",
   "id": "1b010f79-da56-47d1-9891-a62b97f798ba",
   "metadata": {},
   "source": [
    "# Temas \n",
    "    1. Colecciones de datos\n",
    "    2. Estructuras Decisivas y Estructuras Repetitivas\n",
    "    3. Clases y Objetos\n",
    "    4. Funciones"
   ]
  },
  {
   "cell_type": "code",
   "execution_count": 18,
   "id": "81651d63-9cca-494f-bec0-eb77e875f8d2",
   "metadata": {},
   "outputs": [
    {
     "name": "stdout",
     "output_type": "stream",
     "text": [
      "['Cardenas', 'Corrales', 'Gomez', 'Mallqui']\n"
     ]
    }
   ],
   "source": [
    "#listas \n",
    "aula = ['Cardenas','Corrales','Gomez','Mallqui']\n",
    "print(aula)"
   ]
  },
  {
   "cell_type": "code",
   "execution_count": 28,
   "id": "cf5706c7-995e-4784-b852-962d15e9f912",
   "metadata": {},
   "outputs": [
    {
     "name": "stdout",
     "output_type": "stream",
     "text": [
      "Cardenas\n",
      "Corrales\n"
     ]
    }
   ],
   "source": [
    "print(aula[0])\n",
    "print(aula[1])"
   ]
  },
  {
   "cell_type": "code",
   "execution_count": 30,
   "id": "3db3acec-0b3f-4491-ada8-cf6ed5ff4d6b",
   "metadata": {},
   "outputs": [
    {
     "data": {
      "text/plain": [
       "'Camargo'"
      ]
     },
     "execution_count": 30,
     "metadata": {},
     "output_type": "execute_result"
    }
   ],
   "source": [
    "# Puedo asignar un valor a una posicion de la lista\n",
    "aula[2]= 'Camargo'\n",
    "aula[2]"
   ]
  },
  {
   "cell_type": "code",
   "execution_count": 40,
   "id": "6239db48-d626-4359-9c48-c20f234a6dd1",
   "metadata": {},
   "outputs": [
    {
     "data": {
      "text/plain": [
       "['Cardenas',\n",
       " 'Corrales',\n",
       " 'Camargo',\n",
       " 'Mallqui',\n",
       " 'Hermitaño',\n",
       " 'Gomez',\n",
       " 'Hermitaño',\n",
       " 'Gomez',\n",
       " 'Hermitaño',\n",
       " 'Gomez']"
      ]
     },
     "execution_count": 40,
     "metadata": {},
     "output_type": "execute_result"
    }
   ],
   "source": [
    "aula"
   ]
  },
  {
   "cell_type": "code",
   "execution_count": 42,
   "id": "51a97511-02ef-426c-a6e9-ba9db88e63bb",
   "metadata": {},
   "outputs": [
    {
     "data": {
      "text/plain": [
       "['Cardenas',\n",
       " 'Corrales',\n",
       " 'Camargo',\n",
       " 'Mallqui',\n",
       " 'Hermitaño',\n",
       " 'Gomez',\n",
       " 'Hermitaño',\n",
       " 'Gomez',\n",
       " 'Hermitaño',\n",
       " 'Gomez',\n",
       " 'Hermitaño',\n",
       " 'Gomez']"
      ]
     },
     "execution_count": 42,
     "metadata": {},
     "output_type": "execute_result"
    }
   ],
   "source": [
    "#Añadir elementos a una lista utilizando append\n",
    "aula.append(\"Hermitaño\")\n",
    "aula.append(\"Gomez\")\n",
    "aula"
   ]
  },
  {
   "cell_type": "code",
   "execution_count": 48,
   "id": "a250e2b6-4624-4689-8a1b-5a26984718cf",
   "metadata": {},
   "outputs": [
    {
     "data": {
      "text/plain": [
       "['Cardenas',\n",
       " 'Corrales',\n",
       " 'Camargo',\n",
       " 'Mallqui',\n",
       " 'Gomez',\n",
       " 'Gomez',\n",
       " 'Gomez',\n",
       " 'Hermitaño',\n",
       " 'Gomez']"
      ]
     },
     "execution_count": 48,
     "metadata": {},
     "output_type": "execute_result"
    }
   ],
   "source": [
    "# Para eliminar elementos utilizamos remove[]\n",
    "aula.remove(\"Hermitaño\")\n",
    "aula"
   ]
  },
  {
   "cell_type": "code",
   "execution_count": 54,
   "id": "1ea8ecff-cc2c-41f8-ad6a-91bcd27edb91",
   "metadata": {},
   "outputs": [
    {
     "data": {
      "text/plain": [
       "['Cardenas', 'Corrales', 'Camargo', 'Mallqui', 'Hermitaño', 'Gomez']"
      ]
     },
     "execution_count": 54,
     "metadata": {},
     "output_type": "execute_result"
    }
   ],
   "source": [
    "# Para eliminar elementos utilizamos remove[]\n",
    "aula.remove(\"Gomez\")\n",
    "aula"
   ]
  }
 ],
 "metadata": {
  "kernelspec": {
   "display_name": "Python [conda env:base] *",
   "language": "python",
   "name": "conda-base-py"
  },
  "language_info": {
   "codemirror_mode": {
    "name": "ipython",
    "version": 3
   },
   "file_extension": ".py",
   "mimetype": "text/x-python",
   "name": "python",
   "nbconvert_exporter": "python",
   "pygments_lexer": "ipython3",
   "version": "3.12.7"
  }
 },
 "nbformat": 4,
 "nbformat_minor": 5
}
